{
  "nbformat": 4,
  "nbformat_minor": 0,
  "metadata": {
    "colab": {
      "name": "lecture-5.ipynb",
      "version": "0.3.2",
      "provenance": []
    },
    "kernelspec": {
      "display_name": "Python 3",
      "language": "python",
      "name": "python3"
    }
  },
  "cells": [
    {
      "metadata": {
        "id": "YT8KHitrpiyg",
        "colab_type": "text"
      },
      "cell_type": "markdown",
      "source": [
        "# Lecture 5: Error analysis\n",
        "\n",
        "Let's return to our standard trapezoidal rule method of integration. We will also compare this with the implementation in the `scipy` package. For our test function, let's use \n",
        "\n",
        "$$f(x) = \\cos(x^2)$$ \n",
        "\n",
        "again. Recall that the integral of this function from zero to $2\\pi$ is around 0.704682"
      ]
    },
    {
      "metadata": {
        "id": "pTIStlKVpiym",
        "colab_type": "code",
        "colab": {}
      },
      "cell_type": "code",
      "source": [
        "import numpy as np\n",
        "\n",
        "def integrate_trapezoidal(f, a, b, n_points=100):\n",
        "    \"\"\" \n",
        "    Perform integration using the trapezoidal rule and return the result.\n",
        "    \n",
        "    Parameters\n",
        "    ----------\n",
        "    f : univariate function\n",
        "        The function to be integrated. Input should be one real-valued number.\n",
        "    a : number\n",
        "        The lower limit of integration.\n",
        "    b : number\n",
        "        The upper limit of integration.\n",
        "    n_points : number, optional\n",
        "        The number of subdivisions of the integration space to use. The default\n",
        "        number of subdivisions is 100.\n",
        "        \n",
        "    Returns\n",
        "    -------\n",
        "    total : number\n",
        "        The estimated integral.\n",
        "    \"\"\"\n",
        "    \n",
        "    dx = (b - a) / float(n_points)  # this is the spacing between points\n",
        "    \n",
        "    sample_points = np.arange(a, b, dx)  # set out the sample points evenly\n",
        "    \n",
        "    total = np.sum(f(sample_points) + f(sample_points + dx)) * dx / 2  # perform the sum\n",
        "    \n",
        "    return total  # and return it!\n",
        "\n",
        "\n",
        "def f(x):\n",
        "    return np.cos(x**2)"
      ],
      "execution_count": 0,
      "outputs": []
    },
    {
      "metadata": {
        "id": "TNUBIRIKpiyt",
        "colab_type": "code",
        "colab": {
          "base_uri": "https://localhost:8080/",
          "height": 35
        },
        "outputId": "763e8640-fd1c-4e37-9244-360e94460e98"
      },
      "cell_type": "code",
      "source": [
        "integrate_trapezoidal(f, 0, 2*np.pi)"
      ],
      "execution_count": 2,
      "outputs": [
        {
          "output_type": "execute_result",
          "data": {
            "text/plain": [
              "0.7005941720271178"
            ]
          },
          "metadata": {
            "tags": []
          },
          "execution_count": 2
        }
      ]
    },
    {
      "metadata": {
        "id": "WY80Y1Ifpiyx",
        "colab_type": "code",
        "colab": {
          "base_uri": "https://localhost:8080/",
          "height": 35
        },
        "outputId": "0f717cd5-cd8b-44f4-fc9d-d57d77755dd6"
      },
      "cell_type": "code",
      "source": [
        "import scipy.integrate as integrate\n",
        "\n",
        "result = integrate.quad(f, 0, 2*np.pi)\n",
        "\n",
        "print('The result is %lf, and the estimated error is %le' % (result[0], result[1]))"
      ],
      "execution_count": 3,
      "outputs": [
        {
          "output_type": "stream",
          "text": [
            "The result is 0.704682, and the estimated error is 2.774997e-09\n"
          ],
          "name": "stdout"
        }
      ]
    },
    {
      "metadata": {
        "id": "NQuGlcgXpiy3",
        "colab_type": "code",
        "colab": {}
      },
      "cell_type": "code",
      "source": [
        "\n",
        "\n",
        "\n",
        "\n",
        "\n",
        "\n",
        "\n",
        "\n",
        "\n",
        "\n",
        "\n",
        "\n",
        "\n",
        "\n",
        "\n",
        "\n",
        "\n",
        "\n",
        "\n",
        "\n",
        "\n",
        "\n"
      ],
      "execution_count": 0,
      "outputs": []
    },
    {
      "metadata": {
        "id": "IMvQvhOKpiy7",
        "colab_type": "text"
      },
      "cell_type": "markdown",
      "source": [
        "Let's also empirically approximate the error on the integral with the trapezoidal rule.\n",
        "\n",
        "Recall that the formula for the error was \n",
        "\n",
        "$$\\epsilon_2 = \\frac{I_2 - I_1}{3}\\,,$$\n",
        "\n",
        "where $I_2$ is computed using twice as many sample points as $I_1$."
      ]
    },
    {
      "metadata": {
        "id": "PkU6zSW5piy8",
        "colab_type": "code",
        "colab": {
          "base_uri": "https://localhost:8080/",
          "height": 54
        },
        "outputId": "75bb7374-2eb3-42f4-a198-61c013852840"
      },
      "cell_type": "code",
      "source": [
        "I2 = integrate_trapezoidal(f, 0, 2*np.pi, 200)\n",
        "I1 = integrate_trapezoidal(f, 0, 2*np.pi, 100)\n",
        "\n",
        "print(I2, (I2-I1)/3)\n",
        "\n",
        "print(0.704682 - I2)"
      ],
      "execution_count": 6,
      "outputs": [
        {
          "output_type": "stream",
          "text": [
            "0.7036679961247171 0.0010246080325330882\n",
            "0.0010140038752829428\n"
          ],
          "name": "stdout"
        }
      ]
    },
    {
      "metadata": {
        "id": "w4Xp6m0epizA",
        "colab_type": "code",
        "colab": {}
      },
      "cell_type": "code",
      "source": [
        "\n",
        "\n",
        "\n",
        "\n",
        "\n",
        "\n",
        "\n",
        "\n",
        "\n",
        "\n",
        "\n",
        "\n",
        "\n",
        "\n",
        "\n",
        "\n",
        "\n",
        "\n",
        "\n",
        "\n",
        "\n",
        "\n"
      ],
      "execution_count": 0,
      "outputs": []
    },
    {
      "metadata": {
        "id": "Dtq7COcmpizE",
        "colab_type": "text"
      },
      "cell_type": "markdown",
      "source": [
        "Let's investigate the timing. How does this depend on the number of steps/points?"
      ]
    },
    {
      "metadata": {
        "id": "eRAYEHyqpizF",
        "colab_type": "code",
        "colab": {}
      },
      "cell_type": "code",
      "source": [
        "import time as ti\n",
        "start_time = ti.time()\n",
        "\n",
        "# integrate the function\n",
        "\n",
        "# print the run time and the error"
      ],
      "execution_count": 0,
      "outputs": []
    }
  ]
}