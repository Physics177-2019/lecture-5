{
 "cells": [
  {
   "cell_type": "markdown",
   "metadata": {},
   "source": [
    "# Lecture 5: Error analysis\n",
    "\n",
    "Let's return to our standard trapezoidal rule method of integration. We will also compare this with the implementation in the `scipy` package. For our test function, let's use \n",
    "\n",
    "$$f(x) = \\cos(x^2)$$ \n",
    "\n",
    "again. Recall that the integral of this function from zero to $2\\pi$ is around 0.704682"
   ]
  },
  {
   "cell_type": "code",
   "execution_count": null,
   "metadata": {},
   "outputs": [],
   "source": [
    "import numpy as np\n",
    "\n",
    "def integrate_trapezoidal(f, a, b, n_points=100):\n",
    "    \"\"\" \n",
    "    Perform integration using the trapezoidal rule and return the result.\n",
    "    \n",
    "    Parameters\n",
    "    ----------\n",
    "    f : univariate function\n",
    "        The function to be integrated. Input should be one real-valued number.\n",
    "    a : number\n",
    "        The lower limit of integration.\n",
    "    b : number\n",
    "        The upper limit of integration.\n",
    "    n_points : number, optional\n",
    "        The number of subdivisions of the integration space to use. The default\n",
    "        number of subdivisions is 100.\n",
    "        \n",
    "    Returns\n",
    "    -------\n",
    "    total : number\n",
    "        The estimated integral.\n",
    "    \"\"\"\n",
    "    \n",
    "    dx = (b - a) / float(n_points)  # this is the spacing between points\n",
    "    \n",
    "    sample_points = np.arange(a, b, dx)  # set out the sample points evenly\n",
    "    \n",
    "    total = np.sum(f(sample_points) + f(sample_points + dx)) * dx / 2  # perform the sum\n",
    "    \n",
    "    return total  # and return it!\n",
    "\n",
    "\n",
    "def f(x):\n",
    "    return np.cos(x**2)"
   ]
  },
  {
   "cell_type": "code",
   "execution_count": null,
   "metadata": {},
   "outputs": [],
   "source": [
    "integrate_trapezoidal(f, 0, 2*np.pi)"
   ]
  },
  {
   "cell_type": "code",
   "execution_count": null,
   "metadata": {},
   "outputs": [],
   "source": [
    "import scipy.integrate as integrate\n",
    "\n",
    "result = integrate.quad(f, 0, 2*np.pi)\n",
    "\n",
    "print('The result is %lf, and the estimated error is %le' % (result[0], result[1]))"
   ]
  },
  {
   "cell_type": "code",
   "execution_count": null,
   "metadata": {},
   "outputs": [],
   "source": [
    "\n",
    "\n",
    "\n",
    "\n",
    "\n",
    "\n",
    "\n",
    "\n",
    "\n",
    "\n",
    "\n",
    "\n",
    "\n",
    "\n",
    "\n",
    "\n",
    "\n",
    "\n",
    "\n",
    "\n",
    "\n",
    "\n"
   ]
  },
  {
   "cell_type": "markdown",
   "metadata": {},
   "source": [
    "Let's also empirically approximate the error on the integral with the trapezoidal rule.\n",
    "\n",
    "Recall that the formula for the error was \n",
    "\n",
    "$$\\epsilon_2 = \\frac{I_2 - I_1}{3}\\,,$$\n",
    "\n",
    "where $I_2$ is computed using twice as many sample points as $I_1$."
   ]
  },
  {
   "cell_type": "code",
   "execution_count": null,
   "metadata": {},
   "outputs": [],
   "source": [
    "I1 = integrate_trapezoidal(f, 0, 2*np.pi, 100)\n",
    "I2 = integrate_trapezoidal(f, 0, 2*np.pi, 200)\n",
    "\n",
    "print(I2, (I2 - I1)/3)"
   ]
  }
 ],
 "metadata": {
  "kernelspec": {
   "display_name": "Python 3",
   "language": "python",
   "name": "python3"
  },
  "language_info": {
   "codemirror_mode": {
    "name": "ipython",
    "version": 3
   },
   "file_extension": ".py",
   "mimetype": "text/x-python",
   "name": "python",
   "nbconvert_exporter": "python",
   "pygments_lexer": "ipython3",
   "version": "3.7.2"
  }
 },
 "nbformat": 4,
 "nbformat_minor": 2
}
